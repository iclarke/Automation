{
 "metadata": {
  "language_info": {
   "codemirror_mode": {
    "name": "ipython",
    "version": 3
   },
   "file_extension": ".py",
   "mimetype": "text/x-python",
   "name": "python",
   "nbconvert_exporter": "python",
   "pygments_lexer": "ipython3",
   "version": "3.9.4"
  },
  "orig_nbformat": 2,
  "kernelspec": {
   "name": "python394jvsc74a57bd0794049f10792cd9bf340d2b0297f64357a9294547d88b449860f8134b12b2606",
   "display_name": "Python 3.9.4 64-bit"
  },
  "metadata": {
   "interpreter": {
    "hash": "794049f10792cd9bf340d2b0297f64357a9294547d88b449860f8134b12b2606"
   }
  }
 },
 "nbformat": 4,
 "nbformat_minor": 2,
 "cells": [
  {
   "cell_type": "code",
   "execution_count": 13,
   "metadata": {},
   "outputs": [
    {
     "output_type": "execute_result",
     "data": {
      "text/plain": [
       "DatetimeIndex(['2013-01-01', '2013-01-02', '2013-01-03', '2013-01-04',\n",
       "               '2013-01-05', '2013-01-06'],\n",
       "              dtype='datetime64[ns]', freq='D')"
      ]
     },
     "metadata": {},
     "execution_count": 13
    }
   ],
   "source": [
    "import numpy as np\n",
    "import pandas as pd\n",
    "\n",
    "s = pd.Series([1,3,5,np.nan, 6,8])\n",
    "\n",
    "dates = pd.date_range(\"20130101\",periods=6)\n",
    "df = pd.DataFrame(np.random.randn(6,4),index = dates, columns = list(\"ABCD\"))\n",
    "dates"
   ]
  },
  {
   "cell_type": "code",
   "execution_count": 15,
   "metadata": {},
   "outputs": [
    {
     "output_type": "execute_result",
     "data": {
      "text/plain": [
       "     A          B    C  D\n",
       "0  1.0 2020-01-01  1.0  3\n",
       "1  1.0 2020-01-01  1.0  3\n",
       "2  1.0 2020-01-01  1.0  3\n",
       "3  1.0 2020-01-01  1.0  3"
      ],
      "text/html": "<div>\n<style scoped>\n    .dataframe tbody tr th:only-of-type {\n        vertical-align: middle;\n    }\n\n    .dataframe tbody tr th {\n        vertical-align: top;\n    }\n\n    .dataframe thead th {\n        text-align: right;\n    }\n</style>\n<table border=\"1\" class=\"dataframe\">\n  <thead>\n    <tr style=\"text-align: right;\">\n      <th></th>\n      <th>A</th>\n      <th>B</th>\n      <th>C</th>\n      <th>D</th>\n    </tr>\n  </thead>\n  <tbody>\n    <tr>\n      <th>0</th>\n      <td>1.0</td>\n      <td>2020-01-01</td>\n      <td>1.0</td>\n      <td>3</td>\n    </tr>\n    <tr>\n      <th>1</th>\n      <td>1.0</td>\n      <td>2020-01-01</td>\n      <td>1.0</td>\n      <td>3</td>\n    </tr>\n    <tr>\n      <th>2</th>\n      <td>1.0</td>\n      <td>2020-01-01</td>\n      <td>1.0</td>\n      <td>3</td>\n    </tr>\n    <tr>\n      <th>3</th>\n      <td>1.0</td>\n      <td>2020-01-01</td>\n      <td>1.0</td>\n      <td>3</td>\n    </tr>\n  </tbody>\n</table>\n</div>"
     },
     "metadata": {},
     "execution_count": 15
    }
   ],
   "source": [
    "df2 = pd.DataFrame(\n",
    "    {\n",
    "        \"A\":1.0,\n",
    "        \"B\":pd.Timestamp(\"20200101\"),\n",
    "        \"C\":pd.Series(1,index=list(range(4)),dtype=\"float32\"),\n",
    "        \"D\":np.array([3]*4,dtype=\"int32\")\n",
    "\n",
    "    }\n",
    ")\n",
    "\n",
    "df2"
   ]
  },
  {
   "cell_type": "code",
   "execution_count": null,
   "metadata": {},
   "outputs": [],
   "source": []
  },
  {
   "cell_type": "code",
   "execution_count": 2,
   "metadata": {},
   "outputs": [
    {
     "output_type": "stream",
     "name": "stdout",
     "text": [
      "B\n"
     ]
    }
   ],
   "source": [
    "score = 67\n",
    "if score < 80 and score > 70:\n",
    "    print(\"A\")\n",
    "elif score < 90 or score > 80:\n",
    "    print(\"B\")\n",
    "elif score > 60:\n",
    "    print(\"C\")\n",
    "else:\n",
    "    print(\"D\")\n"
   ]
  },
  {
   "cell_type": "code",
   "execution_count": 61,
   "metadata": {},
   "outputs": [
    {
     "output_type": "stream",
     "name": "stdout",
     "text": [
      "You have 6 lives remaining : \n",
      " \n",
      "  +---+\n",
      "  |   |\n",
      "  O   |\n",
      " /|\\  |\n",
      " / \\  |\n",
      "      |\n",
      "=========\n",
      " \n",
      "a _ _ _ _ _\n",
      "a b _ _ _ _\n",
      "a b _ _ e _\n",
      "Argh, wrong guess, You have 5 lives remaining : \n",
      " \n",
      "  +---+\n",
      "  |   |\n",
      "  O   |\n",
      " /|\\  |\n",
      " /    |\n",
      "      |\n",
      "=========\n",
      "\n",
      "a b _ _ e _\n",
      "Argh, wrong guess, You have 4 lives remaining : \n",
      " \n",
      "  +---+\n",
      "  |   |\n",
      "  O   |\n",
      " /|\\  |\n",
      "      |\n",
      "      |\n",
      "=========\n",
      "\n",
      "a b _ _ e _\n",
      "Argh, wrong guess, You have 3 lives remaining : \n",
      " \n",
      "  +---+\n",
      "  |   |\n",
      "  O   |\n",
      " /|   |\n",
      "      |\n",
      "      |\n",
      "=========\n",
      "a b _ _ e _\n",
      "a b c _ e _\n",
      "a b c d e _\n",
      "Argh, wrong guess, You have 2 lives remaining : \n",
      " \n",
      "  +---+\n",
      "  |   |\n",
      "  O   |\n",
      "  |   |\n",
      "      |\n",
      "      |\n",
      "=========\n",
      "\n",
      "a b c d e _\n",
      "a b c d e f\n",
      "You have won !\n"
     ]
    }
   ],
   "source": [
    "## HANG MAN !\n",
    "\n",
    "word = input(\"Player 1, Please enter a word !\")\n",
    "\n",
    "\n",
    "# Make a list of the letters\n",
    "wordLetterList = list(word)\n",
    "#print(wordLetterList)\n",
    "\n",
    "\n",
    "#Stages\n",
    "\n",
    "stages = ['''\n",
    "  +---+\n",
    "  |   |\n",
    "  O   |\n",
    " /|\\  |\n",
    " / \\  |\n",
    "      |\n",
    "=========\n",
    "''', '''\n",
    "  +---+\n",
    "  |   |\n",
    "  O   |\n",
    " /|\\  |\n",
    " /    |\n",
    "      |\n",
    "=========\n",
    "''', '''\n",
    "  +---+\n",
    "  |   |\n",
    "  O   |\n",
    " /|\\  |\n",
    "      |\n",
    "      |\n",
    "=========\n",
    "''', '''\n",
    "  +---+\n",
    "  |   |\n",
    "  O   |\n",
    " /|   |\n",
    "      |\n",
    "      |\n",
    "=========''', '''\n",
    "  +---+\n",
    "  |   |\n",
    "  O   |\n",
    "  |   |\n",
    "      |\n",
    "      |\n",
    "=========\n",
    "''', '''\n",
    "  +---+\n",
    "  |   |\n",
    "  O   |\n",
    "      |\n",
    "      |\n",
    "      |\n",
    "=========\n",
    "''', '''\n",
    "  +---+\n",
    "  |   |\n",
    "      |\n",
    "      |\n",
    "      |\n",
    "      |\n",
    "=========\n",
    "''']\n",
    "\n",
    "\n",
    "# Exit criteria\n",
    "won = False\n",
    "lives = 6\n",
    "\n",
    "# Initial user board\n",
    "userBoardList = list(\"_\" * len(wordLetterList))\n",
    "#print(\" \".join(userBoardList))\n",
    "\n",
    "# Attempt\n",
    "\n",
    "# letterInputList = list(input(\"Letter ? \"))\n",
    "# matchingIndices = [key for key, val in enumerate(wordLetterList)\n",
    "#                       if val in set(letterInputList)]\n",
    "\n",
    "# for i in matchingIndices:\n",
    "#     userBoardList[i] = letterInputList[0]\n",
    "    \n",
    "# print(\" \".join(userBoardList))\n",
    "\n",
    "# print(userBoardList.count(\"_\"))\n",
    "## \n",
    "print(f\"You have {lives} lives remaining : \\n {stages[-lives-1]} \")\n",
    "while won == False and lives >0:\n",
    "    letterInputList = list(input(\"Letter ? \"))\n",
    "    matchingIndices = [key for key, val in enumerate(wordLetterList) if val in set(letterInputList)]\n",
    "    if len(matchingIndices) >0:\n",
    "        for i in matchingIndices:\n",
    "            userBoardList[i] = letterInputList[0]\n",
    "\n",
    "    else:\n",
    "        lives-=1\n",
    "        print(f\"Argh, wrong guess, You have {lives} lives remaining : \\n {stages[-lives-1]}\")\n",
    "\n",
    "    if userBoardList.count(\"_\") ==0 :\n",
    "        won = True\n",
    "\n",
    "    \n",
    "    print(\" \".join(userBoardList))\n",
    "\n",
    "if won:\n",
    "    print(\"You have won !\")\n",
    "else:\n",
    "    print(\"You have lost !\")"
   ]
  },
  {
   "cell_type": "code",
   "execution_count": 71,
   "metadata": {},
   "outputs": [
    {
     "output_type": "stream",
     "name": "stdout",
     "text": [
      "It's not a prime number.\n"
     ]
    }
   ],
   "source": [
    "def prime_checker(number):\n",
    "  for i in range(1,number+1):\n",
    "    if number % i == 0 and i < number  and i > 1:\n",
    "      return print(\"It's not a prime number.\")\n",
    "  \n",
    "  return print(\"It's a prime number.\")\n",
    "\n",
    "prime_checker(66)"
   ]
  },
  {
   "cell_type": "code",
   "execution_count": 103,
   "metadata": {},
   "outputs": [
    {
     "output_type": "stream",
     "name": "stdout",
     "text": [
      "['h', 'e', 'l', 'l', 'o']\n"
     ]
    },
    {
     "output_type": "execute_result",
     "data": {
      "text/plain": [
       "'mjqqt'"
      ]
     },
     "metadata": {},
     "execution_count": 103
    }
   ],
   "source": [
    "alphabet = ['a', 'b', 'c', 'd', 'e', 'f', 'g', 'h', 'i', 'j', 'k', 'l', 'm', 'n', 'o', 'p', 'q', 'r', 's', 't', 'u', 'v', 'w', 'x', 'y', 'z']\n",
    "text = \"hello\"\n",
    "textListSet = set(list(text))\n",
    "print(textList)\n",
    "''.join([alphabet[alphabet.index(x)+5] for x in list(text) if x in alphabet])\n"
   ]
  },
  {
   "cell_type": "code",
   "execution_count": 106,
   "metadata": {},
   "outputs": [
    {
     "output_type": "stream",
     "name": "stdout",
     "text": [
      "['o', 'e']\n"
     ]
    }
   ],
   "source": [
    "def is_consonant(l):\n",
    "    if l not in 'aeiouy':\n",
    "        return True\n",
    "    else:\n",
    "        return False\n",
    "inputWord = input(\"Input a word\")\n",
    "\n",
    "res = [i for i in inputWord if not is_consonant(i)]\n",
    "print(res)"
   ]
  },
  {
   "cell_type": "code",
   "execution_count": 113,
   "metadata": {},
   "outputs": [
    {
     "output_type": "execute_result",
     "data": {
      "text/plain": [
       "['https://www.economist.com/leaders/1997/',\n",
       " 'https://www.economist.com/leaders/1998/',\n",
       " 'https://www.economist.com/leaders/1999/',\n",
       " 'https://www.economist.com/leaders/2000/',\n",
       " 'https://www.economist.com/leaders/2001/',\n",
       " 'https://www.economist.com/leaders/2002/',\n",
       " 'https://www.economist.com/leaders/2003/',\n",
       " 'https://www.economist.com/leaders/2004/',\n",
       " 'https://www.economist.com/leaders/2005/',\n",
       " 'https://www.economist.com/leaders/2006/',\n",
       " 'https://www.economist.com/leaders/2007/',\n",
       " 'https://www.economist.com/leaders/2008/',\n",
       " 'https://www.economist.com/leaders/2009/',\n",
       " 'https://www.economist.com/leaders/2010/',\n",
       " 'https://www.economist.com/leaders/2011/',\n",
       " 'https://www.economist.com/leaders/2012/',\n",
       " 'https://www.economist.com/leaders/2013/',\n",
       " 'https://www.economist.com/leaders/2014/',\n",
       " 'https://www.economist.com/leaders/2015/',\n",
       " 'https://www.economist.com/leaders/2016/',\n",
       " 'https://www.economist.com/leaders/2017/',\n",
       " 'https://www.economist.com/leaders/2018/',\n",
       " 'https://www.economist.com/leaders/2019/',\n",
       " 'https://www.economist.com/leaders/2020/']"
      ]
     },
     "metadata": {},
     "execution_count": 113
    }
   ],
   "source": [
    "[\r\n",
    "        f\"https://www.economist.com/leaders/{str(x)}/\" for x in list(range(1000, 2021))]"
   ]
  },
  {
   "cell_type": "code",
   "execution_count": 2,
   "metadata": {
    "tags": []
   },
   "outputs": [
    {
     "output_type": "error",
     "ename": "TypeError",
     "evalue": "from_url() got an unexpected keyword argument 'css'",
     "traceback": [
      "\u001b[1;31m---------------------------------------------------------------------------\u001b[0m",
      "\u001b[1;31mTypeError\u001b[0m                                 Traceback (most recent call last)",
      "\u001b[1;32m<ipython-input-2-b238ca0a0dc9>\u001b[0m in \u001b[0;36m<module>\u001b[1;34m\u001b[0m\n\u001b[0;32m      2\u001b[0m \u001b[0mu\u001b[0m \u001b[1;33m=\u001b[0m \u001b[1;34m\"https://www.economist.com/obituary/2021/05/01/ladonna-brave-bull-allard-died-on-april-10th\"\u001b[0m\u001b[1;33m\u001b[0m\u001b[1;33m\u001b[0m\u001b[0m\n\u001b[0;32m      3\u001b[0m \u001b[0mfile_name\u001b[0m \u001b[1;33m=\u001b[0m \u001b[0mu\u001b[0m\u001b[1;33m.\u001b[0m\u001b[0mreplace\u001b[0m\u001b[1;33m(\u001b[0m\u001b[1;34m'https://www.economist.com/'\u001b[0m\u001b[1;33m,\u001b[0m \u001b[1;34m''\u001b[0m\u001b[1;33m)\u001b[0m\u001b[1;33m.\u001b[0m\u001b[0mreplace\u001b[0m\u001b[1;33m(\u001b[0m\u001b[1;34m'/'\u001b[0m\u001b[1;33m,\u001b[0m\u001b[1;34m'_'\u001b[0m\u001b[1;33m)\u001b[0m\u001b[1;33m\u001b[0m\u001b[1;33m\u001b[0m\u001b[0m\n\u001b[1;32m----> 4\u001b[1;33m \u001b[0mpdfkit\u001b[0m\u001b[1;33m.\u001b[0m\u001b[0mfrom_url\u001b[0m\u001b[1;33m(\u001b[0m\u001b[0mu\u001b[0m\u001b[1;33m,\u001b[0m \u001b[1;34mf\"{file_name}.pdf\"\u001b[0m\u001b[1;33m,\u001b[0m\u001b[0mcss\u001b[0m \u001b[1;33m=\u001b[0m \u001b[1;34m'ec.css'\u001b[0m\u001b[1;33m)\u001b[0m\u001b[1;33m\u001b[0m\u001b[1;33m\u001b[0m\u001b[0m\n\u001b[0m",
      "\u001b[1;31mTypeError\u001b[0m: from_url() got an unexpected keyword argument 'css'"
     ]
    }
   ],
   "source": [
    "import pdfkit\n",
    "u = \"https://www.economist.com/obituary/2021/05/01/ladonna-brave-bull-allard-died-on-april-10th\"\n",
    "file_name = u.replace('https://www.economist.com/', '').replace('/','_')\n",
    "pdfkit.from_url(u, f\"{file_name}.pdf\",css = 'ec.css')"
   ]
  },
  {
   "cell_type": "code",
   "execution_count": 22,
   "metadata": {},
   "outputs": [
    {
     "output_type": "stream",
     "name": "stdout",
     "text": [
      "29\n"
     ]
    },
    {
     "output_type": "error",
     "ename": "TypeError",
     "evalue": "'str' object does not support item assignment",
     "traceback": [
      "\u001b[1;31m---------------------------------------------------------------------------\u001b[0m",
      "\u001b[1;31mTypeError\u001b[0m                                 Traceback (most recent call last)",
      "\u001b[1;32m<ipython-input-22-119580f4cc55>\u001b[0m in \u001b[0;36m<module>\u001b[1;34m\u001b[0m\n\u001b[0;32m      9\u001b[0m \u001b[0mdict2\u001b[0m\u001b[1;33m[\u001b[0m\u001b[1;34m'Name'\u001b[0m\u001b[1;33m]\u001b[0m \u001b[1;33m=\u001b[0m \u001b[1;34m\"Yann\"\u001b[0m\u001b[1;33m\u001b[0m\u001b[1;33m\u001b[0m\u001b[0m\n\u001b[0;32m     10\u001b[0m \u001b[1;33m\u001b[0m\u001b[0m\n\u001b[1;32m---> 11\u001b[1;33m \u001b[0mdict2\u001b[0m \u001b[1;33m=\u001b[0m \u001b[0mdict2\u001b[0m\u001b[1;33m[\u001b[0m\u001b[1;34m'Country'\u001b[0m\u001b[1;33m]\u001b[0m\u001b[1;33m=\u001b[0m\u001b[1;34m'France'\u001b[0m\u001b[1;33m\u001b[0m\u001b[1;33m\u001b[0m\u001b[0m\n\u001b[0m\u001b[0;32m     12\u001b[0m \u001b[0mprint\u001b[0m\u001b[1;33m(\u001b[0m\u001b[0mdict2\u001b[0m\u001b[1;33m)\u001b[0m\u001b[1;33m\u001b[0m\u001b[1;33m\u001b[0m\u001b[0m\n",
      "\u001b[1;31mTypeError\u001b[0m: 'str' object does not support item assignment"
     ]
    }
   ],
   "source": [
    "dict1 = {\n",
    "    \"Name\":\"Samy\",\n",
    "    \"Age\":29\n",
    "}\n",
    "\n",
    "print(dict1[\"Age\"])\n",
    "dict2 = {}\n",
    "dict2['Age'] = dict1['Age'] + 2\n",
    "dict2['Name'] = \"Yann\"\n",
    "\n",
    "dict2 = dict2['Country']='France'\n",
    "print(dict2)"
   ]
  }
 ]
}